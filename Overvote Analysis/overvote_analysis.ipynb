{
 "cells": [
  {
   "cell_type": "code",
   "execution_count": 16,
   "metadata": {},
   "outputs": [],
   "source": [
    "import pandas as pd\n",
    "from collections import Counter\n",
    "from votekit.utils import mentions\n",
    "from votekit.elections import STV\n",
    "import pickle"
   ]
  },
  {
   "cell_type": "code",
   "execution_count": null,
   "metadata": {},
   "outputs": [],
   "source": [
    "\n",
    "overvote_set_size_by_cand = {d:{} for d in range(1,5)}\n",
    "\n",
    "for d in range(1,5):\n",
    "    print(d)\n",
    "    df = pd.read_csv(f\"../CVRs/raw_city_csv/Portland_D{d}_raw_from_city.csv\")\n",
    "\n",
    "    rank_columns = {i:[col for col in df.columns if f'{i}:Number' in col] for i in range(1,7)}\n",
    "    all_rank_cols = [col for col_list in rank_columns.values() for col in col_list]\n",
    "\n",
    "    voters_df = df[df[all_rank_cols].sum(axis=1) > 0].reset_index(drop=True) \n",
    "\n",
    "    for voter_index, row in voters_df.iterrows():\n",
    "        for rank_position in range(1,7):\n",
    "            num_votes_cast = row[rank_columns[rank_position]].sum()\n",
    "            \n",
    "            if num_votes_cast > 1:\n",
    "                # find candidate names from columns\n",
    "                pd_series = row[rank_columns[rank_position]]\n",
    "                cast_vote_column_names = pd_series.loc[pd_series == 1].index.tolist()\n",
    "                candidates = [col_name.split(\":\")[-2] for col_name in cast_vote_column_names]\n",
    "\n",
    "                for c in candidates:\n",
    "                    if c not in overvote_set_size_by_cand[d]:\n",
    "                        overvote_set_size_by_cand[d][c] = [len(candidates)]\n",
    "                    else:\n",
    "                        overvote_set_size_by_cand[d][c].append(len(candidates))\n",
    "    \n",
    "\n",
    "    # to compute total number of overvotes involving a candidate, simply take the length of the list\n",
    "    # or use Counter to get a breakdown of what kinds of overvotes they were in\n",
    "    overvote_set_size_by_cand[d] = {c:Counter(o_list) for c, o_list in overvote_set_size_by_cand[d].items()}\n",
    "\n",
    "\n"
   ]
  },
  {
   "cell_type": "code",
   "execution_count": null,
   "metadata": {},
   "outputs": [
    {
     "data": {
      "text/plain": [
       "20"
      ]
     },
     "execution_count": 9,
     "metadata": {},
     "output_type": "execute_result"
    }
   ],
   "source": [
    "# district level\n",
    "overvote_set_size_by_cand[1]"
   ]
  },
  {
   "cell_type": "code",
   "execution_count": 17,
   "metadata": {},
   "outputs": [
    {
     "name": "stdout",
     "output_type": "stream",
     "text": [
      "Peggy overvotes by set size: Counter({3: 201, 4: 158, 2: 144, 5: 75, 6: 72, 16: 58, 19: 55, 7: 36, 8: 30, 9: 22, 14: 12, 18: 12, 15: 12, 10: 11, 11: 11, 17: 8, 13: 8, 12: 4})\n",
      "Peggy Sue Owens was in an overvote with 3 candidates this many times:  201\n",
      "total number of positions that ranked Peggy wasted to overvotes:  929\n"
     ]
    }
   ],
   "source": [
    "# candidate specific\n",
    "print(\"Peggy overvotes by set size:\",overvote_set_size_by_cand[1][\"Peggy Sue Owens\"])\n",
    "\n",
    "print(\"Peggy Sue Owens was in an overvote with 3 candidates this many times: \", overvote_set_size_by_cand[1][\"Peggy Sue Owens\"][3]) \n",
    "\n",
    "print(\"total number of positions that ranked Peggy wasted to overvotes: \", sum(overvote_set_size_by_cand[1][\"Peggy Sue Owens\"].values())) "
   ]
  },
  {
   "cell_type": "markdown",
   "metadata": {},
   "source": [
    "Things to note about current computation:\n",
    "\n",
    "- overvotes are not 1-1 with wasted votes in the sense that someone could overvote candidate A multiple times on a ballot. Even if we allowed the overvote, they would have been removed later on."
   ]
  },
  {
   "cell_type": "markdown",
   "metadata": {},
   "source": [
    "# Only computing First Place overvotes"
   ]
  },
  {
   "cell_type": "code",
   "execution_count": null,
   "metadata": {},
   "outputs": [],
   "source": [
    "first_place_overvote_set_size_by_cand = {d:{} for d in range(1,5)}\n",
    "\n",
    "for d in range(1,5):\n",
    "    print(d)\n",
    "    df = pd.read_csv(f\"../CVRs/raw_city_csv/Portland_D{d}_raw_from_city.csv\")\n",
    "\n",
    "    rank_columns = {i:[col for col in df.columns if f'{i}:Number' in col] for i in range(1,7)}\n",
    "    all_rank_cols = [col for col_list in rank_columns.values() for col in col_list]\n",
    "\n",
    "    voters_df = df[df[all_rank_cols].sum(axis=1) > 0].reset_index(drop=True) \n",
    "\n",
    "    for voter_index, row in voters_df.iterrows():\n",
    "        for rank_position in [1]:\n",
    "            num_votes_cast = row[rank_columns[rank_position]].sum()\n",
    "            \n",
    "            if num_votes_cast > 1:\n",
    "                # find candidate names from columns\n",
    "                pd_series = row[rank_columns[rank_position]]\n",
    "                cast_vote_column_names = pd_series.loc[pd_series == 1].index.tolist()\n",
    "                candidates = [col_name.split(\":\")[-2] for col_name in cast_vote_column_names]\n",
    "\n",
    "                for c in candidates:\n",
    "                    if c not in first_place_overvote_set_size_by_cand[d]:\n",
    "                        first_place_overvote_set_size_by_cand[d][c] = [len(candidates)]\n",
    "                    else:\n",
    "                        first_place_overvote_set_size_by_cand[d][c].append(len(candidates))\n",
    "    \n",
    "\n",
    "    # to compute total number of overvotes involving a candidate, simply take the length of the list\n",
    "    # or use Counter to get a breakdown of what kinds of overvotes they were in\n",
    "    first_place_overvote_set_size_by_cand[d] = {c:Counter(o_list) for c, o_list in first_place_overvote_set_size_by_cand[d].items()}\n",
    "\n",
    "    \n"
   ]
  },
  {
   "cell_type": "code",
   "execution_count": 19,
   "metadata": {},
   "outputs": [
    {
     "name": "stdout",
     "output_type": "stream",
     "text": [
      "Peggy first place overvotes by set size: Counter({3: 71, 4: 52, 2: 49, 6: 24, 19: 22, 16: 21, 5: 18, 7: 9, 9: 7, 8: 7, 10: 5, 18: 5, 11: 4, 15: 2, 13: 2, 17: 2, 12: 1, 14: 1})\n",
      "Peggy Sue Owens was in a first place overvote with 3 candidates this many times:  71\n",
      "total number of first place votes for Peggy wasted to overvotes:  302\n"
     ]
    }
   ],
   "source": [
    "# candidate specific\n",
    "print(\"Peggy first place overvotes by set size:\",first_place_overvote_set_size_by_cand[1][\"Peggy Sue Owens\"])\n",
    "\n",
    "print(\"Peggy Sue Owens was in a first place overvote with 3 candidates this many times: \", first_place_overvote_set_size_by_cand[1][\"Peggy Sue Owens\"][3]) \n",
    "\n",
    "print(\"total number of first place votes for Peggy wasted to overvotes: \", sum(first_place_overvote_set_size_by_cand[1][\"Peggy Sue Owens\"].values())) "
   ]
  },
  {
   "cell_type": "code",
   "execution_count": null,
   "metadata": {},
   "outputs": [],
   "source": []
  }
 ],
 "metadata": {
  "kernelspec": {
   "display_name": ".venv",
   "language": "python",
   "name": "python3"
  },
  "language_info": {
   "codemirror_mode": {
    "name": "ipython",
    "version": 3
   },
   "file_extension": ".py",
   "mimetype": "text/x-python",
   "name": "python",
   "nbconvert_exporter": "python",
   "pygments_lexer": "ipython3",
   "version": "3.13.2"
  }
 },
 "nbformat": 4,
 "nbformat_minor": 2
}
