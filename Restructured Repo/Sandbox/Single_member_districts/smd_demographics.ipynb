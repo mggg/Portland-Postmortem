{
 "cells": [
  {
   "cell_type": "markdown",
   "metadata": {},
   "source": [
    "Determining the demographics of 12 SMD in Portland, OR using 2020 Census."
   ]
  },
  {
   "cell_type": "code",
   "execution_count": 10,
   "metadata": {},
   "outputs": [],
   "source": [
    "import matplotlib.pyplot as plt\n",
    "from gerrychain import (Partition, Graph, MarkovChain,\n",
    "                        updaters, accept)\n",
    "from gerrychain.proposals import recom\n",
    "from gerrychain.constraints import contiguous\n",
    "from gerrychain.optimization import SingleMetricOptimizer, Gingleator\n",
    "from functools import partial\n",
    "import pandas\n",
    "import geopandas as gpd\n",
    "from pcompress import Record, Replay\n",
    "import networkx as nx\n",
    "import maup\n",
    "import json\n",
    "import numpy as np\n",
    "\n",
    "# Set the random seed so that the results are reproducible!\n",
    "import random\n",
    "random.seed(2024)"
   ]
  },
  {
   "cell_type": "markdown",
   "metadata": {},
   "source": [
    "# Chain"
   ]
  },
  {
   "cell_type": "code",
   "execution_count": 2,
   "metadata": {},
   "outputs": [],
   "source": [
    "import geopandas as gpd\n",
    "atomic_units = gpd.read_file(\"../Shapefiles/Portland blocks with pop/Portland_blocks_with_pop.shp\")\n",
    "atomic_units.rename(columns={c:c if \"DVAP\" not in c else \"C\".join(c.split(\"D\")) for c in atomic_units.columns}, inplace=True)\n",
    "n_districts = 12\n",
    "\n",
    "tot_pop_col = \"TOTPOP20\"\n",
    "tot_cvap_col = \"CVAP22\"\n",
    "bcvap_col = \"BCVAP22\"\n",
    "amincvap_col = \"AMINCVAP22\"\n",
    "hcvap_col = \"HCVAP22\"\n",
    "aapicvap_col = \"AAPICVAP22\"\n",
    "wcvap_col = \"WCVAP22\"\n",
    "poc_cvap_col = \"POCCVAP22\"\n",
    "\n",
    "demo_cols = [tot_pop_col, tot_cvap_col,\n",
    "             bcvap_col, amincvap_col, wcvap_col, hcvap_col, aapicvap_col,\n",
    "             ]\n",
    "\n",
    "poc_cols = [bcvap_col, amincvap_col, hcvap_col, aapicvap_col,]\n",
    "\n",
    "atomic_units[poc_cvap_col] = sum(atomic_units[c] for c in poc_cols)\n",
    "\n",
    "\n",
    "epsilon = .05\n",
    "n_steps = 100000\n",
    "opt_n_steps = 1000000\n",
    "burst_size = 10\n",
    "file_name = f\"portland_{n_districts}_n_districts_{epsilon}_epsilon_{n_steps}_n_steps\"\n",
    "opt_file_name = f\"portland_{n_districts}_n_districts_{epsilon}_epsilon_{opt_n_steps}_n_steps_short_burst_{burst_size}\"\n"
   ]
  },
  {
   "cell_type": "code",
   "execution_count": 3,
   "metadata": {},
   "outputs": [],
   "source": [
    "atomic_units = atomic_units[atomic_units[\"GEOID20\"] != \"410050222064007\"] # drop an island with 0 pop"
   ]
  },
  {
   "cell_type": "markdown",
   "metadata": {},
   "source": [
    "## Connecting dual graph"
   ]
  },
  {
   "cell_type": "code",
   "execution_count": 4,
   "metadata": {},
   "outputs": [
    {
     "name": "stderr",
     "output_type": "stream",
     "text": [
      "/Users/cdonnay/PycharmProjects/Portland-Postmortem/.venv/lib/python3.11/site-packages/gerrychain/graph/graph.py:406: UserWarning: Found islands (degree-0 nodes). Indices of islands: {5554, 4454}\n",
      "  warnings.warn(\n"
     ]
    }
   ],
   "source": [
    "from gerrychain import Graph\n",
    "import networkx as nx\n",
    "\n",
    "graph = Graph.from_geodataframe(atomic_units)\n",
    "\n",
    "island_1 = \"410050222064003\"\n",
    "new_connections_1 = [ \"410510089022016\", \"410050222064009\", \"410510089022015\", \"410510089022013\"]\n",
    "\n",
    "island_2 = \"410510086002017\"\n",
    "new_connections_2 = [\"410510086002027\", \"410510086002016\", \"410510086002028\"]\n",
    "\n",
    "def find_node_by_geoid(geoid, graph=graph):\n",
    "    for node in graph:\n",
    "        if graph.nodes[node][\"GEOID20\"] == geoid:\n",
    "            return node\n",
    "        \n",
    "island_1_node = find_node_by_geoid(island_1)\n",
    "island_2_node = find_node_by_geoid(island_2)\n",
    "\n",
    "island_1_connections = [find_node_by_geoid(x) for x in new_connections_1]\n",
    "island_2_connections = [find_node_by_geoid(x) for x in new_connections_2]\n",
    "\n",
    "for n in island_1_connections:\n",
    "    graph.add_edge(island_1_node, n)\n",
    "\n",
    "for n in island_2_connections:\n",
    "    graph.add_edge(island_2_node, n)\n",
    "\n",
    "graph = nx.convert_node_labels_to_integers(graph, first_label=0)"
   ]
  },
  {
   "cell_type": "code",
   "execution_count": 21,
   "metadata": {},
   "outputs": [],
   "source": [
    "arr = np.array(list(dict(graph.degree).values()))"
   ]
  },
  {
   "cell_type": "code",
   "execution_count": 26,
   "metadata": {},
   "outputs": [
    {
     "data": {
      "text/plain": [
       "array([   0,   76,  278,  919, 6835, 2202,  898,  467,  230,  144,  106,\n",
       "         63,   37,   28,   19,   11,    8,   11,    3,    3,    3,    3,\n",
       "          2,    4,    1,    1,    0,    0,    1,    0,    1,    0,    1])"
      ]
     },
     "execution_count": 26,
     "metadata": {},
     "output_type": "execute_result"
    }
   ],
   "source": [
    "np.bincount(arr)"
   ]
  },
  {
   "cell_type": "code",
   "execution_count": 27,
   "metadata": {},
   "outputs": [
    {
     "name": "stderr",
     "output_type": "stream",
     "text": [
      "/Library/Frameworks/Python.framework/Versions/3.11/lib/python3.11/subprocess.py:1127: ResourceWarning: subprocess 32216 is still running\n",
      "  _warn(\"subprocess %s is still running\" % self.pid,\n",
      "ResourceWarning: Enable tracemalloc to get the object allocation traceback\n",
      "/Users/cdonnay/PycharmProjects/Portland-Postmortem/.venv/lib/python3.11/site-packages/networkx/algorithms/tree/mst.py:214: ResourceWarning: unclosed file <_io.BufferedWriter name=79>\n",
      "  if d.get(partition) == EdgePartition.INCLUDED:\n",
      "ResourceWarning: Enable tracemalloc to get the object allocation traceback\n"
     ]
    }
   ],
   "source": [
    "from gerrychain import updaters, Partition\n",
    "\n",
    "my_updaters = {\n",
    "    \"cut_edges\": updaters.cut_edges\n",
    "}\n",
    "# my_updaters.update({col: updaters.Tally(col) for col in demo_cols+[poc_cvap_col]})\n",
    "\n",
    "initial_partition = Partition.from_random_assignment(\n",
    "    graph,\n",
    "    n_districts,\n",
    "    updaters=my_updaters,\n",
    "    pop_col=tot_pop_col,\n",
    "    epsilon=epsilon\n",
    ")"
   ]
  },
  {
   "cell_type": "code",
   "execution_count": 28,
   "metadata": {},
   "outputs": [],
   "source": [
    "ideal_population = sum(initial_partition[tot_pop_col].values()) / len(initial_partition)\n",
    "\n",
    "proposal = partial(\n",
    "    recom,\n",
    "    pop_col=tot_pop_col,\n",
    "    pop_target=ideal_population,\n",
    "    epsilon=epsilon,\n",
    "    node_repeats=2\n",
    ")\n",
    "\n",
    "recom_chain = MarkovChain(\n",
    "    proposal=proposal,\n",
    "    constraints=[contiguous],\n",
    "    accept=accept.always_accept,\n",
    "    initial_state=initial_partition,\n",
    "    total_steps=n_steps\n",
    ")"
   ]
  },
  {
   "cell_type": "code",
   "execution_count": 31,
   "metadata": {},
   "outputs": [
    {
     "name": "stderr",
     "output_type": "stream",
     "text": [
      "/bin/sh: xz: command not found\n"
     ]
    },
    {
     "name": "stdout",
     "output_type": "stream",
     "text": [
      "0%\n"
     ]
    },
    {
     "name": "stderr",
     "output_type": "stream",
     "text": [
      "/Library/Frameworks/Python.framework/Versions/3.11/lib/python3.11/subprocess.py:1127: ResourceWarning: subprocess 32301 is still running\n",
      "  _warn(\"subprocess %s is still running\" % self.pid,\n",
      "ResourceWarning: Enable tracemalloc to get the object allocation traceback\n",
      "/Users/cdonnay/PycharmProjects/Portland-Postmortem/.venv/lib/python3.11/site-packages/gerrychain/tree.py:173: ResourceWarning: unclosed file <_io.BufferedWriter name=79>\n",
      "  self.subsets = {node: {node} for node in graph.nodes}\n",
      "ResourceWarning: Enable tracemalloc to get the object allocation traceback\n"
     ]
    },
    {
     "name": "stdout",
     "output_type": "stream",
     "text": [
      "1%\n",
      "2%\n",
      "3%\n",
      "4%\n",
      "5%\n",
      "6%\n"
     ]
    },
    {
     "name": "stderr",
     "output_type": "stream",
     "text": [
      "thread 'main' panicked at /Users/cdonnay/.cargo/registry/src/index.crates.io-6f17d22bba15001f/pcompress-1.0.7/src/encode.rs:120:65:\n",
      "called `Result::unwrap()` on an `Err` value: Os { code: 32, kind: BrokenPipe, message: \"Broken pipe\" }\n",
      "note: run with `RUST_BACKTRACE=1` environment variable to display a backtrace\n"
     ]
    },
    {
     "ename": "BrokenPipeError",
     "evalue": "[Errno 32] Broken pipe",
     "output_type": "error",
     "traceback": [
      "\u001b[31m---------------------------------------------------------------------------\u001b[39m",
      "\u001b[31mBrokenPipeError\u001b[39m                           Traceback (most recent call last)",
      "\u001b[36mCell\u001b[39m\u001b[36m \u001b[39m\u001b[32mIn[31]\u001b[39m\u001b[32m, line 1\u001b[39m\n\u001b[32m----> \u001b[39m\u001b[32m1\u001b[39m \u001b[38;5;28;43;01mfor\u001b[39;49;00m\u001b[43m \u001b[49m\u001b[43mi\u001b[49m\u001b[43m,\u001b[49m\u001b[43m \u001b[49m\u001b[43mpartition\u001b[49m\u001b[43m \u001b[49m\u001b[38;5;129;43;01min\u001b[39;49;00m\u001b[43m \u001b[49m\u001b[38;5;28;43menumerate\u001b[39;49m\u001b[43m(\u001b[49m\u001b[43mRecord\u001b[49m\u001b[43m(\u001b[49m\u001b[43mrecom_chain\u001b[49m\u001b[43m,\u001b[49m\u001b[43m \u001b[49m\u001b[33;43mf\u001b[39;49m\u001b[33;43m\"\u001b[39;49m\u001b[38;5;132;43;01m{\u001b[39;49;00m\u001b[43mfile_name\u001b[49m\u001b[38;5;132;43;01m}\u001b[39;49;00m\u001b[33;43m.chain\u001b[39;49m\u001b[33;43m\"\u001b[39;49m\u001b[43m)\u001b[49m\u001b[43m)\u001b[49m\u001b[43m:\u001b[49m\n\u001b[32m      2\u001b[39m \u001b[43m    \u001b[49m\u001b[38;5;28;43;01mif\u001b[39;49;00m\u001b[43m \u001b[49m\u001b[43mi\u001b[49m\u001b[43m%\u001b[49m\u001b[43m(\u001b[49m\u001b[43mn_steps\u001b[49m\u001b[43m/\u001b[49m\u001b[32;43m100\u001b[39;49m\u001b[43m)\u001b[49m\u001b[43m \u001b[49m\u001b[43m==\u001b[49m\u001b[43m \u001b[49m\u001b[32;43m0\u001b[39;49m\u001b[43m:\u001b[49m\n\u001b[32m      3\u001b[39m \u001b[43m        \u001b[49m\u001b[38;5;28;43mprint\u001b[39;49m\u001b[43m(\u001b[49m\u001b[33;43mf\u001b[39;49m\u001b[33;43m\"\u001b[39;49m\u001b[38;5;132;43;01m{\u001b[39;49;00m\u001b[43mi\u001b[49m\u001b[43m/\u001b[49m\u001b[43mn_steps\u001b[49m\u001b[38;5;132;43;01m:\u001b[39;49;00m\u001b[33;43m.0%\u001b[39;49m\u001b[38;5;132;43;01m}\u001b[39;49;00m\u001b[33;43m\"\u001b[39;49m\u001b[43m)\u001b[49m\n",
      "\u001b[36mFile \u001b[39m\u001b[32m~/PycharmProjects/Portland-Postmortem/.venv/lib/python3.11/site-packages/pcompress/record.py:63\u001b[39m, in \u001b[36mRecord.__next__\u001b[39m\u001b[34m(self)\u001b[39m\n\u001b[32m     61\u001b[39m     assignment = \u001b[38;5;28mlist\u001b[39m(step.assignment.to_series().sort_index().astype(\u001b[38;5;28mint\u001b[39m))\n\u001b[32m     62\u001b[39m     state = \u001b[38;5;28mstr\u001b[39m(assignment).rstrip() + \u001b[33m\"\u001b[39m\u001b[38;5;130;01m\\n\u001b[39;00m\u001b[33m\"\u001b[39m\n\u001b[32m---> \u001b[39m\u001b[32m63\u001b[39m     \u001b[38;5;28mself\u001b[39m.child.stdin.write(state.encode())\n\u001b[32m     64\u001b[39m     \u001b[38;5;28;01mreturn\u001b[39;00m step\n\u001b[32m     66\u001b[39m \u001b[38;5;28;01mexcept\u001b[39;00m \u001b[38;5;167;01mStopIteration\u001b[39;00m:  \u001b[38;5;66;03m# kill child process\u001b[39;00m\n",
      "\u001b[31mBrokenPipeError\u001b[39m: [Errno 32] Broken pipe"
     ]
    }
   ],
   "source": [
    "for i, partition in enumerate(Record(recom_chain, f\"{file_name}.chain\")):\n",
    "    if i%(n_steps/100) == 0:\n",
    "        print(f\"{i/n_steps:.0%}\")"
   ]
  },
  {
   "cell_type": "code",
   "execution_count": null,
   "metadata": {},
   "outputs": [],
   "source": [
    "gingles = Gingleator(\n",
    "    proposal,\n",
    "    constraints=[contiguous],\n",
    "    initial_state=initial_partition,\n",
    "    minority_pop_col=poc_cvap_col,\n",
    "    total_pop_col=tot_cvap_col,\n",
    "    score_function=Gingleator.reward_partial_dist\n",
    ")\n",
    "\n",
    "for i, partition in enumerate(Record(gingles.short_bursts(burst_size, int(opt_n_steps/burst_size)), f\"{opt_file_name}.chain\")):\n",
    "    if i%(opt_n_steps/100) == 0:\n",
    "        print(f\"{i/opt_n_steps:.0%}\")\n",
    "\n",
    "print(gingles.best_score)\n"
   ]
  },
  {
   "cell_type": "markdown",
   "metadata": {},
   "source": [
    "# Viz"
   ]
  },
  {
   "cell_type": "code",
   "execution_count": null,
   "metadata": {},
   "outputs": [
    {
     "name": "stderr",
     "output_type": "stream",
     "text": [
      "/bin/bash: unxz: command not found\n",
      "cat: ./Single_member_districts/portland_12_n_districts_0.05_epsilon_100000_n_steps.chain: No such file or directory\n",
      "/Users/cdonnay/PycharmProjects/Portland-Postmortem/.venv/lib/python3.11/site-packages/pandas/core/frame.py:843: ResourceWarning: unclosed file <_io.BufferedReader name=76>\n",
      "  data = list(data)\n",
      "ResourceWarning: Enable tracemalloc to get the object allocation traceback\n"
     ]
    }
   ],
   "source": [
    "import pandas\n",
    "from pcompress import Replay\n",
    "\n",
    "poc_cvap_df = pandas.DataFrame(\n",
    "    sorted([poc_cvap/partition[tot_cvap_col][district] for district, poc_cvap in partition[poc_cvap_col].items()])\n",
    "    for partition in Replay(graph, f\"{file_name}.chain\", my_updaters)\n",
    ")"
   ]
  },
  {
   "cell_type": "code",
   "execution_count": null,
   "metadata": {},
   "outputs": [],
   "source": [
    "import matplotlib.pyplot as plt\n",
    "\n",
    "fig, ax = plt.subplots(figsize=(8, 6))\n",
    "\n",
    "# Draw 50% line\n",
    "ax.axhline(0.5, color=\"#cccccc\")\n",
    "boxstyle = {\n",
    "        \"lw\": 1.5 ,\n",
    "        \"color\": \"#0099cd\",\n",
    "    }\n",
    "# Draw boxplot\n",
    "poc_cvap_df.boxplot(ax=ax, \n",
    "           positions=range(len(poc_cvap_df.columns)),  \n",
    "           whis=(1,99),\n",
    "        boxprops=boxstyle,\n",
    "        whiskerprops=boxstyle,\n",
    "        capprops=boxstyle,\n",
    "        medianprops=boxstyle,\n",
    "        showfliers=False,)\n",
    "\n",
    "# Annotate\n",
    "ax.set_title(f\"POC_CVAP in {n_districts} districts\\n {epsilon} epsilon, {n_steps} n_steps\")\n",
    "ax.set_ylabel(\"POC_CVAP %\")\n",
    "ax.set_xlabel(\"Sorted districts\")\n",
    "ax.set_ylim(0.22,.28)\n",
    "ax.set_yticklabels([f\"{x:.1%}\" for x in np.arange(.22,.29,.01)])\n",
    "ax.set_xticklabels([x for x in range(1,n_districts+1)])\n",
    "\n",
    "\n",
    "plt.show()\n",
    "\n"
   ]
  },
  {
   "cell_type": "code",
   "execution_count": null,
   "metadata": {},
   "outputs": [],
   "source": [
    "b_cvap_df = pandas.DataFrame(\n",
    "    sorted([b_cvap/partition[tot_cvap_col][district] for district, b_cvap in partition[bcvap_col].items()])\n",
    "    for partition in Replay(graph, f\"{file_name}.chain\", my_updaters)\n",
    ")"
   ]
  },
  {
   "cell_type": "code",
   "execution_count": null,
   "metadata": {},
   "outputs": [],
   "source": [
    "fig, ax = plt.subplots(figsize=(8, 6))\n",
    "\n",
    "# Draw 50% line\n",
    "ax.axhline(0.5, color=\"#cccccc\")\n",
    "boxstyle = {\n",
    "        \"lw\": 1.5 ,\n",
    "        \"color\": \"#0099cd\",\n",
    "    }\n",
    "# Draw boxplot\n",
    "b_cvap_df.boxplot(ax=ax, \n",
    "           positions=range(len(b_cvap_df.columns)),  \n",
    "           whis=(1,99),\n",
    "        boxprops=boxstyle,\n",
    "        whiskerprops=boxstyle,\n",
    "        capprops=boxstyle,\n",
    "        medianprops=boxstyle,\n",
    "        showfliers=False,)\n",
    "\n",
    "# Annotate\n",
    "ax.set_title(f\"BCVAP in {n_districts} districts\\n {epsilon} epsilon, {n_steps} n_steps\")\n",
    "ax.set_ylabel(\"BCVAP %\")\n",
    "ax.set_xlabel(\"Sorted districts\")\n",
    "y_min = .05\n",
    "y_max = .09\n",
    "ax.set_ylim(y_min,y_max)\n",
    "ax.set_yticks([x for x in np.arange(y_min,y_max + .01,.01)])\n",
    "ax.set_yticklabels([f\"{x:.1%}\" for x in np.arange(y_min,y_max+.01,.01)])\n",
    "ax.set_xticklabels([x for x in range(1,n_districts+1)])\n",
    "\n",
    "\n",
    "plt.show()"
   ]
  },
  {
   "cell_type": "code",
   "execution_count": null,
   "metadata": {},
   "outputs": [],
   "source": [
    "h_cvap_df = pandas.DataFrame(\n",
    "    sorted([h_cvap/partition[tot_cvap_col][district] for district, h_cvap in partition[hcvap_col].items()])\n",
    "    for partition in Replay(graph, f\"{file_name}.chain\", my_updaters)\n",
    ")"
   ]
  },
  {
   "cell_type": "code",
   "execution_count": null,
   "metadata": {},
   "outputs": [],
   "source": [
    "fig, ax = plt.subplots(figsize=(8, 6))\n",
    "\n",
    "# Draw 50% line\n",
    "ax.axhline(0.5, color=\"#cccccc\")\n",
    "boxstyle = {\n",
    "        \"lw\": 1.5 ,\n",
    "        \"color\": \"#0099cd\",\n",
    "    }\n",
    "# Draw boxplot\n",
    "h_cvap_df.boxplot(ax=ax, \n",
    "           positions=range(len(h_cvap_df.columns)),  \n",
    "           whis=(1,99),\n",
    "        boxprops=boxstyle,\n",
    "        whiskerprops=boxstyle,\n",
    "        capprops=boxstyle,\n",
    "        medianprops=boxstyle,\n",
    "        showfliers=False,)\n",
    "\n",
    "# Annotate\n",
    "ax.set_title(f\"HCVAP in {n_districts} districts\\n {epsilon} epsilon, {n_steps} n_steps\")\n",
    "ax.set_ylabel(\"HCVAP %\")\n",
    "ax.set_xlabel(\"Sorted districts\")\n",
    "y_min = 0.06\n",
    "y_max = .1\n",
    "ax.set_ylim(y_min,y_max)\n",
    "ax.set_yticks([x for x in np.arange(y_min,y_max + .01,.01)])\n",
    "ax.set_yticklabels([f\"{x:.1%}\" for x in np.arange(y_min,y_max+.01,.01)])\n",
    "ax.set_xticklabels([x for x in range(1,n_districts+1)])\n",
    "\n",
    "\n",
    "plt.show()"
   ]
  },
  {
   "cell_type": "code",
   "execution_count": null,
   "metadata": {},
   "outputs": [],
   "source": [
    "aapi_cvap_df = pandas.DataFrame(\n",
    "    sorted([a_cvap/partition[tot_cvap_col][district] for district, a_cvap in partition[aapicvap_col].items()])\n",
    "    for partition in Replay(graph, f\"{file_name}.chain\", my_updaters)\n",
    ")"
   ]
  },
  {
   "cell_type": "code",
   "execution_count": null,
   "metadata": {},
   "outputs": [],
   "source": [
    "fig, ax = plt.subplots(figsize=(8, 6))\n",
    "\n",
    "# Draw 50% line\n",
    "ax.axhline(0.5, color=\"#cccccc\")\n",
    "boxstyle = {\n",
    "        \"lw\": 1.5 ,\n",
    "        \"color\": \"#0099cd\",\n",
    "    }\n",
    "# Draw boxplot\n",
    "aapi_cvap_df.boxplot(ax=ax, \n",
    "           positions=range(len(aapi_cvap_df.columns)),  \n",
    "           whis=(1,99),\n",
    "        boxprops=boxstyle,\n",
    "        whiskerprops=boxstyle,\n",
    "        capprops=boxstyle,\n",
    "        medianprops=boxstyle,\n",
    "        showfliers=False,)\n",
    "\n",
    "# Annotate\n",
    "ax.set_title(f\"AAPICVAP in {n_districts} districts\\n {epsilon} epsilon, {n_steps} n_steps\")\n",
    "ax.set_ylabel(\"AAPICVAP %\")\n",
    "ax.set_xlabel(\"Sorted districts\")\n",
    "y_min = 0.07\n",
    "y_max = .11\n",
    "ax.set_ylim(y_min,y_max)\n",
    "ax.set_yticks([x for x in np.arange(y_min,y_max + .01,.01)])\n",
    "ax.set_yticklabels([f\"{x:.1%}\" for x in np.arange(y_min,y_max+.01,.01)])\n",
    "ax.set_xticklabels([x for x in range(1,n_districts+1)])\n",
    "\n",
    "\n",
    "plt.show()"
   ]
  },
  {
   "cell_type": "code",
   "execution_count": null,
   "metadata": {},
   "outputs": [],
   "source": [
    "# would 30% be enough to get a POC candidate elected\n",
    "# could do short burst to get as many majority minority as possible?"
   ]
  }
 ],
 "metadata": {
  "kernelspec": {
   "display_name": ".venv",
   "language": "python",
   "name": "python3"
  },
  "language_info": {
   "codemirror_mode": {
    "name": "ipython",
    "version": 3
   },
   "file_extension": ".py",
   "mimetype": "text/x-python",
   "name": "python",
   "nbconvert_exporter": "python",
   "pygments_lexer": "ipython3",
   "version": "3.11.8"
  }
 },
 "nbformat": 4,
 "nbformat_minor": 2
}
