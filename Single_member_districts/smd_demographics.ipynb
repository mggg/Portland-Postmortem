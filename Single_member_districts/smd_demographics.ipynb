{
 "cells": [
  {
   "cell_type": "markdown",
   "metadata": {},
   "source": [
    "Determining the demographics of 12 SMD in Portland, OR using 2020 Census."
   ]
  },
  {
   "cell_type": "code",
   "execution_count": null,
   "metadata": {},
   "outputs": [],
   "source": [
    "import matplotlib.pyplot as plt\n",
    "from gerrychain import (Partition, Graph, MarkovChain,\n",
    "                        updaters, accept)\n",
    "from gerrychain.proposals import recom\n",
    "from gerrychain.constraints import contiguous\n",
    "from gerrychain.optimization import SingleMetricOptimizer, Gingleator\n",
    "from functools import partial\n",
    "import pandas\n",
    "import geopandas as gpd\n",
    "from pcompress import Record, Replay\n",
    "import networkx as nx\n",
    "import maup\n",
    "import json\n",
    "import numpy as np\n",
    "\n",
    "# Set the random seed so that the results are reproducible!\n",
    "import random\n",
    "random.seed(2024)"
   ]
  },
  {
   "cell_type": "markdown",
   "metadata": {},
   "source": [
    "# Chain"
   ]
  },
  {
   "cell_type": "code",
   "execution_count": 60,
   "metadata": {},
   "outputs": [],
   "source": [
    "atomic_units = gpd.read_file(\"../Shapefiles/Portland blocks with pop/Portland_blocks_with_pop.shp\")\n",
    "atomic_units.rename(columns={c:c if \"DVAP\" not in c else \"C\".join(c.split(\"D\")) for c in atomic_units.columns}, inplace=True)\n",
    "n_districts = 12\n",
    "\n",
    "tot_pop_col = \"TOTPOP20\"\n",
    "tot_cvap_col = \"CVAP22\"\n",
    "bcvap_col = \"BCVAP22\"\n",
    "amincvap_col = \"AMINCVAP22\"\n",
    "hcvap_col = \"HCVAP22\"\n",
    "aapicvap_col = \"AAPICVAP22\"\n",
    "wcvap_col = \"WCVAP22\"\n",
    "poc_cvap_col = \"POCCVAP22\"\n",
    "\n",
    "demo_cols = [tot_pop_col, tot_cvap_col,\n",
    "             bcvap_col, amincvap_col, wcvap_col, hcvap_col, aapicvap_col,\n",
    "             ]\n",
    "\n",
    "poc_cols = [bcvap_col, amincvap_col, hcvap_col, aapicvap_col,]\n",
    "\n",
    "atomic_units[poc_cvap_col] = sum(atomic_units[c] for c in poc_cols)\n",
    "\n",
    "\n",
    "epsilon = .05\n",
    "n_steps = 100000\n",
    "opt_n_steps = 1000000\n",
    "burst_size = 10\n",
    "file_name = f\"portland_{n_districts}_n_districts_{epsilon}_epsilon_{n_steps}_n_steps\"\n",
    "opt_file_name = f\"portland_{n_districts}_n_districts_{epsilon}_epsilon_{opt_n_steps}_n_steps_short_burst_{burst_size}\"\n"
   ]
  },
  {
   "cell_type": "code",
   "execution_count": 51,
   "metadata": {},
   "outputs": [],
   "source": [
    "atomic_units = atomic_units[atomic_units[\"GEOID20\"] != \"410050222064007\"] # drop an island with 0 pop"
   ]
  },
  {
   "cell_type": "markdown",
   "metadata": {},
   "source": [
    "## Connecting dual graph"
   ]
  },
  {
   "cell_type": "code",
   "execution_count": 52,
   "metadata": {},
   "outputs": [
    {
     "name": "stderr",
     "output_type": "stream",
     "text": [
      "/Users/cdonnay/Documents/GitHub/MGGG/Portland-Postmortem/.venv/lib/python3.10/site-packages/gerrychain/graph/graph.py:406: UserWarning: Found islands (degree-0 nodes). Indices of islands: {5554, 4454}\n",
      "  warnings.warn(\n"
     ]
    }
   ],
   "source": [
    "graph = Graph.from_geodataframe(atomic_units)\n",
    "\n",
    "island_1 = \"410050222064003\"\n",
    "new_connections_1 = [ \"410510089022016\", \"410050222064009\", \"410510089022015\", \"410510089022013\"]\n",
    "\n",
    "island_2 = \"410510086002017\"\n",
    "new_connections_2 = [\"410510086002027\", \"410510086002016\", \"410510086002028\"]\n",
    "\n",
    "def find_node_by_geoid(geoid, graph=graph):\n",
    "    for node in graph:\n",
    "        if graph.nodes[node][\"GEOID20\"] == geoid:\n",
    "            return node\n",
    "        \n",
    "island_1_node = find_node_by_geoid(island_1)\n",
    "island_2_node = find_node_by_geoid(island_2)\n",
    "\n",
    "island_1_connections = [find_node_by_geoid(x) for x in new_connections_1]\n",
    "island_2_connections = [find_node_by_geoid(x) for x in new_connections_2]\n",
    "\n",
    "for n in island_1_connections:\n",
    "    graph.add_edge(island_1_node, n)\n",
    "\n",
    "for n in island_2_connections:\n",
    "    graph.add_edge(island_2_node, n)\n",
    "\n",
    "graph = nx.convert_node_labels_to_integers(graph, first_label=0)"
   ]
  },
  {
   "cell_type": "code",
   "execution_count": 53,
   "metadata": {},
   "outputs": [],
   "source": [
    "my_updaters = {\n",
    "    \"cut_edges\": updaters.cut_edges\n",
    "}\n",
    "my_updaters.update({col: updaters.Tally(col) for col in demo_cols+[poc_cvap_col]})\n",
    "\n",
    "initial_partition = Partition.from_random_assignment(\n",
    "    graph,\n",
    "    n_districts,\n",
    "    updaters=my_updaters,\n",
    "    pop_col=tot_pop_col,\n",
    "    epsilon=epsilon\n",
    ")"
   ]
  },
  {
   "cell_type": "code",
   "execution_count": 54,
   "metadata": {},
   "outputs": [],
   "source": [
    "ideal_population = sum(initial_partition[tot_pop_col].values()) / len(initial_partition)\n",
    "\n",
    "proposal = partial(\n",
    "    recom,\n",
    "    pop_col=tot_pop_col,\n",
    "    pop_target=ideal_population,\n",
    "    epsilon=epsilon,\n",
    "    node_repeats=2\n",
    ")\n",
    "\n",
    "recom_chain = MarkovChain(\n",
    "    proposal=proposal,\n",
    "    constraints=[contiguous],\n",
    "    accept=accept.always_accept,\n",
    "    initial_state=initial_partition,\n",
    "    total_steps=n_steps\n",
    ")"
   ]
  },
  {
   "cell_type": "code",
   "execution_count": 8,
   "metadata": {},
   "outputs": [
    {
     "name": "stdout",
     "output_type": "stream",
     "text": [
      "0%\n",
      "1%\n",
      "2%\n",
      "3%\n",
      "4%\n",
      "5%\n",
      "6%\n",
      "7%\n",
      "8%\n",
      "9%\n",
      "10%\n",
      "11%\n",
      "12%\n",
      "13%\n",
      "14%\n",
      "15%\n",
      "16%\n",
      "17%\n",
      "18%\n",
      "19%\n",
      "20%\n",
      "21%\n",
      "22%\n",
      "23%\n",
      "24%\n",
      "25%\n",
      "26%\n",
      "27%\n",
      "28%\n",
      "29%\n",
      "30%\n",
      "31%\n",
      "32%\n",
      "33%\n",
      "34%\n",
      "35%\n",
      "36%\n",
      "37%\n",
      "38%\n",
      "39%\n",
      "40%\n",
      "41%\n",
      "42%\n",
      "43%\n",
      "44%\n",
      "45%\n",
      "46%\n",
      "47%\n",
      "48%\n",
      "49%\n",
      "50%\n",
      "51%\n",
      "52%\n",
      "53%\n",
      "54%\n",
      "55%\n",
      "56%\n",
      "57%\n",
      "58%\n",
      "59%\n",
      "60%\n",
      "61%\n",
      "62%\n",
      "63%\n",
      "64%\n",
      "65%\n",
      "66%\n",
      "67%\n",
      "68%\n",
      "69%\n",
      "70%\n",
      "71%\n",
      "72%\n",
      "73%\n",
      "74%\n",
      "75%\n",
      "76%\n",
      "77%\n",
      "78%\n",
      "79%\n",
      "80%\n",
      "81%\n",
      "82%\n",
      "83%\n",
      "84%\n",
      "85%\n",
      "86%\n",
      "87%\n",
      "88%\n",
      "89%\n",
      "90%\n",
      "91%\n",
      "92%\n",
      "93%\n",
      "94%\n",
      "95%\n",
      "96%\n",
      "97%\n",
      "98%\n",
      "99%\n"
     ]
    }
   ],
   "source": [
    "for i, partition in enumerate(Record(recom_chain, f\"{file_name}.chain\")):\n",
    "    if i%(n_steps/100) == 0:\n",
    "        print(f\"{i/n_steps:.0%}\")"
   ]
  },
  {
   "cell_type": "code",
   "execution_count": 66,
   "metadata": {},
   "outputs": [
    {
     "name": "stdout",
     "output_type": "stream",
     "text": [
      "0%\n",
      "1%\n",
      "2%\n",
      "3%\n",
      "4%\n",
      "5%\n",
      "6%\n",
      "7%\n",
      "8%\n",
      "9%\n",
      "10%\n",
      "11%\n",
      "12%\n",
      "13%\n",
      "14%\n",
      "15%\n",
      "16%\n",
      "17%\n",
      "18%\n",
      "19%\n",
      "20%\n",
      "21%\n",
      "22%\n",
      "23%\n",
      "24%\n",
      "25%\n",
      "26%\n",
      "27%\n",
      "28%\n",
      "29%\n",
      "30%\n",
      "31%\n",
      "32%\n",
      "33%\n",
      "34%\n",
      "35%\n",
      "36%\n",
      "37%\n",
      "38%\n",
      "39%\n",
      "40%\n",
      "41%\n",
      "42%\n",
      "43%\n",
      "44%\n",
      "45%\n",
      "46%\n",
      "47%\n",
      "48%\n",
      "49%\n"
     ]
    },
    {
     "name": "stderr",
     "output_type": "stream",
     "text": [
      "/Users/cdonnay/Documents/GitHub/MGGG/Portland-Postmortem/.venv/lib/python3.10/site-packages/gerrychain/tree.py:704: BipartitionWarning: \n",
      "Failed to find a balanced cut after 1000 attempts.\n",
      "If possible, consider enabling pair reselection within your\n",
      "MarkovChain proposal method to allow the algorithm to select\n",
      "a different pair of districts for recombination.\n",
      "  warnings.warn(\n"
     ]
    },
    {
     "name": "stdout",
     "output_type": "stream",
     "text": [
      "50%\n",
      "51%\n",
      "52%\n",
      "53%\n",
      "54%\n",
      "55%\n",
      "56%\n",
      "57%\n",
      "58%\n",
      "59%\n",
      "60%\n",
      "61%\n",
      "62%\n",
      "63%\n",
      "64%\n",
      "65%\n",
      "66%\n",
      "67%\n",
      "68%\n",
      "69%\n",
      "70%\n",
      "71%\n",
      "72%\n",
      "73%\n",
      "74%\n",
      "75%\n",
      "76%\n",
      "77%\n",
      "78%\n",
      "79%\n",
      "80%\n",
      "81%\n",
      "82%\n",
      "83%\n",
      "84%\n",
      "85%\n",
      "86%\n"
     ]
    },
    {
     "name": "stderr",
     "output_type": "stream",
     "text": [
      "/Users/cdonnay/Documents/GitHub/MGGG/Portland-Postmortem/.venv/lib/python3.10/site-packages/gerrychain/tree.py:704: BipartitionWarning: \n",
      "Failed to find a balanced cut after 1000 attempts.\n",
      "If possible, consider enabling pair reselection within your\n",
      "MarkovChain proposal method to allow the algorithm to select\n",
      "a different pair of districts for recombination.\n",
      "  warnings.warn(\n"
     ]
    },
    {
     "name": "stdout",
     "output_type": "stream",
     "text": [
      "87%\n",
      "88%\n",
      "89%\n",
      "90%\n",
      "91%\n",
      "92%\n",
      "93%\n",
      "94%\n",
      "95%\n",
      "96%\n",
      "97%\n",
      "98%\n",
      "99%\n",
      "0.4365253814588877\n"
     ]
    }
   ],
   "source": [
    "gingles = Gingleator(\n",
    "    proposal,\n",
    "    constraints=[contiguous],\n",
    "    initial_state=initial_partition,\n",
    "    minority_pop_col=poc_cvap_col,\n",
    "    total_pop_col=tot_cvap_col,\n",
    "    score_function=Gingleator.reward_partial_dist\n",
    ")\n",
    "\n",
    "for i, partition in enumerate(Record(gingles.short_bursts(burst_size, int(opt_n_steps/burst_size)), f\"{opt_file_name}.chain\")):\n",
    "    if i%(opt_n_steps/100) == 0:\n",
    "        print(f\"{i/opt_n_steps:.0%}\")\n",
    "\n",
    "print(gingles.best_score)\n"
   ]
  },
  {
   "cell_type": "markdown",
   "metadata": {},
   "source": [
    "## Viz"
   ]
  },
  {
   "cell_type": "code",
   "execution_count": null,
   "metadata": {},
   "outputs": [
    {
     "name": "stderr",
     "output_type": "stream",
     "text": [
      "/Users/cdonnay/Documents/GitHub/MGGG/Portland-Postmortem/.venv/lib/python3.10/site-packages/pandas/core/frame.py:843: ResourceWarning: unclosed file <_io.BufferedReader name=75>\n",
      "  data = list(data)\n",
      "ResourceWarning: Enable tracemalloc to get the object allocation traceback\n"
     ]
    }
   ],
   "source": [
    "poc_cvap_df = pandas.DataFrame(\n",
    "    sorted([poc_cvap/partition[tot_cvap_col][district] for district, poc_cvap in partition[poc_cvap_col].items()])\n",
    "    for partition in Replay(graph, f\"{file_name}.chain\", my_updaters)\n",
    ")"
   ]
  },
  {
   "cell_type": "code",
   "execution_count": null,
   "metadata": {},
   "outputs": [
    {
     "name": "stderr",
     "output_type": "stream",
     "text": [
      "/var/folders/r_/xjlnv23j48v1p28d0tq18wcc0000gn/T/ipykernel_1257/76050943.py:24: UserWarning: set_ticklabels() should only be used with a fixed number of ticks, i.e. after set_ticks() or using a FixedLocator.\n",
      "  ax.set_yticklabels([f\"{x:.1%}\" for x in np.arange(.22,.29,.01)])\n"
     ]
    },
    {
     "data": {
      "image/png": "[encoded data removed]",
      "text/plain": [
       "<Figure size 800x600 with 1 Axes>"
      ]
     },
     "metadata": {},
     "output_type": "display_data"
    }
   ],
   "source": [
    "fig, ax = plt.subplots(figsize=(8, 6))\n",
    "\n",
    "# Draw 50% line\n",
    "ax.axhline(0.5, color=\"#cccccc\")\n",
    "boxstyle = {\n",
    "        \"lw\": 1.5 ,\n",
    "        \"color\": \"#0099cd\",\n",
    "    }\n",
    "# Draw boxplot\n",
    "poc_cvap_df.boxplot(ax=ax, \n",
    "           positions=range(len(poc_cvap_df.columns)),  \n",
    "           whis=(1,99),\n",
    "        boxprops=boxstyle,\n",
    "        whiskerprops=boxstyle,\n",
    "        capprops=boxstyle,\n",
    "        medianprops=boxstyle,\n",
    "        showfliers=False,)\n",
    "\n",
    "# Annotate\n",
    "ax.set_title(f\"POC_CVAP in {n_districts} districts\\n {epsilon} epsilon, {n_steps} n_steps\")\n",
    "ax.set_ylabel(\"POC_CVAP %\")\n",
    "ax.set_xlabel(\"Sorted districts\")\n",
    "ax.set_ylim(0.22,.28)\n",
    "ax.set_yticklabels([f\"{x:.1%}\" for x in np.arange(.22,.29,.01)])\n",
    "ax.set_xticklabels([x for x in range(1,n_districts+1)])\n",
    "\n",
    "\n",
    "plt.show()\n",
    "\n"
   ]
  },
  {
   "cell_type": "code",
   "execution_count": 25,
   "metadata": {},
   "outputs": [
    {
     "name": "stderr",
     "output_type": "stream",
     "text": [
      "/Users/cdonnay/Documents/GitHub/MGGG/Portland-Postmortem/.venv/lib/python3.10/site-packages/pandas/core/frame.py:843: ResourceWarning: unclosed file <_io.BufferedReader name=76>\n",
      "  data = list(data)\n",
      "ResourceWarning: Enable tracemalloc to get the object allocation traceback\n"
     ]
    }
   ],
   "source": [
    "b_cvap_df = pandas.DataFrame(\n",
    "    sorted([b_cvap/partition[tot_cvap_col][district] for district, b_cvap in partition[bcvap_col].items()])\n",
    "    for partition in Replay(graph, f\"{file_name}.chain\", my_updaters)\n",
    ")"
   ]
  },
  {
   "cell_type": "code",
   "execution_count": null,
   "metadata": {},
   "outputs": [
    {
     "data": {
      "image/png": "[encoded data removed]",
      "text/plain": [
       "<Figure size 800x600 with 1 Axes>"
      ]
     },
     "metadata": {},
     "output_type": "display_data"
    }
   ],
   "source": [
    "fig, ax = plt.subplots(figsize=(8, 6))\n",
    "\n",
    "# Draw 50% line\n",
    "ax.axhline(0.5, color=\"#cccccc\")\n",
    "boxstyle = {\n",
    "        \"lw\": 1.5 ,\n",
    "        \"color\": \"#0099cd\",\n",
    "    }\n",
    "# Draw boxplot\n",
    "b_cvap_df.boxplot(ax=ax, \n",
    "           positions=range(len(b_cvap_df.columns)),  \n",
    "           whis=(1,99),\n",
    "        boxprops=boxstyle,\n",
    "        whiskerprops=boxstyle,\n",
    "        capprops=boxstyle,\n",
    "        medianprops=boxstyle,\n",
    "        showfliers=False,)\n",
    "\n",
    "# Annotate\n",
    "ax.set_title(f\"BCVAP in {n_districts} districts\\n {epsilon} epsilon, {n_steps} n_steps\")\n",
    "ax.set_ylabel(\"BCVAP %\")\n",
    "ax.set_xlabel(\"Sorted districts\")\n",
    "y_min = .05\n",
    "y_max = .09\n",
    "ax.set_ylim(y_min,y_max)\n",
    "ax.set_yticks([x for x in np.arange(y_min,y_max + .01,.01)])\n",
    "ax.set_yticklabels([f\"{x:.1%}\" for x in np.arange(y_min,y_max+.01,.01)])\n",
    "ax.set_xticklabels([x for x in range(1,n_districts+1)])\n",
    "\n",
    "\n",
    "plt.show()"
   ]
  },
  {
   "cell_type": "code",
   "execution_count": 27,
   "metadata": {},
   "outputs": [
    {
     "name": "stderr",
     "output_type": "stream",
     "text": [
      "/Users/cdonnay/Documents/GitHub/MGGG/Portland-Postmortem/.venv/lib/python3.10/site-packages/pandas/core/frame.py:843: ResourceWarning: unclosed file <_io.BufferedReader name=92>\n",
      "  data = list(data)\n",
      "ResourceWarning: Enable tracemalloc to get the object allocation traceback\n"
     ]
    }
   ],
   "source": [
    "h_cvap_df = pandas.DataFrame(\n",
    "    sorted([h_cvap/partition[tot_cvap_col][district] for district, h_cvap in partition[hcvap_col].items()])\n",
    "    for partition in Replay(graph, f\"{file_name}.chain\", my_updaters)\n",
    ")"
   ]
  },
  {
   "cell_type": "code",
   "execution_count": 48,
   "metadata": {},
   "outputs": [
    {
     "data": {
      "image/png": "[encoded data removed]",
      "text/plain": [
       "<Figure size 800x600 with 1 Axes>"
      ]
     },
     "metadata": {},
     "output_type": "display_data"
    }
   ],
   "source": [
    "fig, ax = plt.subplots(figsize=(8, 6))\n",
    "\n",
    "# Draw 50% line\n",
    "ax.axhline(0.5, color=\"#cccccc\")\n",
    "boxstyle = {\n",
    "        \"lw\": 1.5 ,\n",
    "        \"color\": \"#0099cd\",\n",
    "    }\n",
    "# Draw boxplot\n",
    "h_cvap_df.boxplot(ax=ax, \n",
    "           positions=range(len(h_cvap_df.columns)),  \n",
    "           whis=(1,99),\n",
    "        boxprops=boxstyle,\n",
    "        whiskerprops=boxstyle,\n",
    "        capprops=boxstyle,\n",
    "        medianprops=boxstyle,\n",
    "        showfliers=False,)\n",
    "\n",
    "# Annotate\n",
    "ax.set_title(f\"HCVAP in {n_districts} districts\\n {epsilon} epsilon, {n_steps} n_steps\")\n",
    "ax.set_ylabel(\"HCVAP %\")\n",
    "ax.set_xlabel(\"Sorted districts\")\n",
    "y_min = 0.06\n",
    "y_max = .1\n",
    "ax.set_ylim(y_min,y_max)\n",
    "ax.set_yticks([x for x in np.arange(y_min,y_max + .01,.01)])\n",
    "ax.set_yticklabels([f\"{x:.1%}\" for x in np.arange(y_min,y_max+.01,.01)])\n",
    "ax.set_xticklabels([x for x in range(1,n_districts+1)])\n",
    "\n",
    "\n",
    "plt.show()"
   ]
  },
  {
   "cell_type": "code",
   "execution_count": 62,
   "metadata": {},
   "outputs": [
    {
     "name": "stderr",
     "output_type": "stream",
     "text": [
      "/opt/homebrew/Cellar/python@3.10/3.10.16/Frameworks/Python.framework/Versions/3.10/lib/python3.10/subprocess.py:1072: ResourceWarning: subprocess 99627 is still running\n",
      "  _warn(\"subprocess %s is still running\" % self.pid,\n",
      "ResourceWarning: Enable tracemalloc to get the object allocation traceback\n",
      "/Users/cdonnay/Documents/GitHub/MGGG/Portland-Postmortem/.venv/lib/python3.10/site-packages/gerrychain/graph/graph.py:561: ResourceWarning: unclosed file <_io.BufferedWriter name=77>\n",
      "  return tuple(self.graph.neighbors(n))\n",
      "ResourceWarning: Enable tracemalloc to get the object allocation traceback\n",
      "/Users/cdonnay/Documents/GitHub/MGGG/Portland-Postmortem/.venv/lib/python3.10/site-packages/pandas/core/frame.py:843: ResourceWarning: unclosed file <_io.BufferedReader name=76>\n",
      "  data = list(data)\n",
      "ResourceWarning: Enable tracemalloc to get the object allocation traceback\n"
     ]
    }
   ],
   "source": [
    "aapi_cvap_df = pandas.DataFrame(\n",
    "    sorted([a_cvap/partition[tot_cvap_col][district] for district, a_cvap in partition[aapicvap_col].items()])\n",
    "    for partition in Replay(graph, f\"{file_name}.chain\", my_updaters)\n",
    ")"
   ]
  },
  {
   "cell_type": "code",
   "execution_count": 65,
   "metadata": {},
   "outputs": [
    {
     "data": {
      "image/png": "[encoded data removed]",
      "text/plain": [
       "<Figure size 800x600 with 1 Axes>"
      ]
     },
     "metadata": {},
     "output_type": "display_data"
    }
   ],
   "source": [
    "fig, ax = plt.subplots(figsize=(8, 6))\n",
    "\n",
    "# Draw 50% line\n",
    "ax.axhline(0.5, color=\"#cccccc\")\n",
    "boxstyle = {\n",
    "        \"lw\": 1.5 ,\n",
    "        \"color\": \"#0099cd\",\n",
    "    }\n",
    "# Draw boxplot\n",
    "aapi_cvap_df.boxplot(ax=ax, \n",
    "           positions=range(len(aapi_cvap_df.columns)),  \n",
    "           whis=(1,99),\n",
    "        boxprops=boxstyle,\n",
    "        whiskerprops=boxstyle,\n",
    "        capprops=boxstyle,\n",
    "        medianprops=boxstyle,\n",
    "        showfliers=False,)\n",
    "\n",
    "# Annotate\n",
    "ax.set_title(f\"AAPICVAP in {n_districts} districts\\n {epsilon} epsilon, {n_steps} n_steps\")\n",
    "ax.set_ylabel(\"AAPICVAP %\")\n",
    "ax.set_xlabel(\"Sorted districts\")\n",
    "y_min = 0.07\n",
    "y_max = .11\n",
    "ax.set_ylim(y_min,y_max)\n",
    "ax.set_yticks([x for x in np.arange(y_min,y_max + .01,.01)])\n",
    "ax.set_yticklabels([f\"{x:.1%}\" for x in np.arange(y_min,y_max+.01,.01)])\n",
    "ax.set_xticklabels([x for x in range(1,n_districts+1)])\n",
    "\n",
    "\n",
    "plt.show()"
   ]
  },
  {
   "cell_type": "code",
   "execution_count": null,
   "metadata": {},
   "outputs": [],
   "source": [
    "# would 30% be enough to get a POC candidate elected\n",
    "# could do short burst to get as many majority minority as possible?"
   ]
  }
 ],
 "metadata": {
  "kernelspec": {
   "display_name": ".venv",
   "language": "python",
   "name": "python3"
  },
  "language_info": {
   "codemirror_mode": {
    "name": "ipython",
    "version": 3
   },
   "file_extension": ".py",
   "mimetype": "text/x-python",
   "name": "python",
   "nbconvert_exporter": "python",
   "pygments_lexer": "ipython3",
   "version": "3.10.16"
  }
 },
 "nbformat": 4,
 "nbformat_minor": 2
}
